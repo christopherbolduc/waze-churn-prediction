{
 "cells": [
  {
   "cell_type": "markdown",
   "id": "2f3f7ff5",
   "metadata": {},
   "source": [
    "### Notebook Overview  \n",
    "\n",
    "This Jupyter notebook is the deliverable for **Course 4 – \"The Power of Statistics\"** in the *Google Advanced Data Analytics Professional Certificate* program. Its goals are to  \n",
    "\n",
    "1. **Formulate and test hypotheses** about Waze user behavior using inferential statistics.  \n",
    "2. **Apply a two-sample hypothesis test (t-test)** to compare driving behavior across device types (iPhone vs Android).  \n",
    "3. **Interpret statistical results** by evaluating p-values against a chosen significance level (α = 0.05).  \n",
    "4. **Translate findings into business insights** that inform whether device type should be considered in future churn modeling.  \n",
    "\n",
    "**Deliverables:**  \n",
    "- Group-level descriptive statistics for drives by device type  \n",
    "- Hypothesis test results with p-value and decision rule  \n",
    "- Executive summary linking statistical outcomes to stakeholder implications  "
   ]
  },
  {
   "cell_type": "code",
   "execution_count": 1,
   "id": "3442b0d8",
   "metadata": {},
   "outputs": [],
   "source": [
    "import pandas as pd\n",
    "from scipy import stats"
   ]
  },
  {
   "cell_type": "code",
   "execution_count": 2,
   "id": "48eaf996",
   "metadata": {},
   "outputs": [],
   "source": [
    "# Next step: conduct a two-sample hypothesis test (t-test) to analyze \n",
    "# whether the mean number of rides differs significantly between \n",
    "# iPhone users and Android users in waze_df."
   ]
  },
  {
   "cell_type": "code",
   "execution_count": null,
   "id": "b5ce64d8",
   "metadata": {},
   "outputs": [
    {
     "data": {
      "text/html": [
       "<div>\n",
       "<style scoped>\n",
       "    .dataframe tbody tr th:only-of-type {\n",
       "        vertical-align: middle;\n",
       "    }\n",
       "\n",
       "    .dataframe tbody tr th {\n",
       "        vertical-align: top;\n",
       "    }\n",
       "\n",
       "    .dataframe thead th {\n",
       "        text-align: right;\n",
       "    }\n",
       "</style>\n",
       "<table border=\"1\" class=\"dataframe\">\n",
       "  <thead>\n",
       "    <tr style=\"text-align: right;\">\n",
       "      <th></th>\n",
       "      <th>ID</th>\n",
       "      <th>label</th>\n",
       "      <th>sessions</th>\n",
       "      <th>drives</th>\n",
       "      <th>total_sessions</th>\n",
       "      <th>n_days_after_onboarding</th>\n",
       "      <th>total_navigations_fav1</th>\n",
       "      <th>total_navigations_fav2</th>\n",
       "      <th>driven_km_drives</th>\n",
       "      <th>duration_minutes_drives</th>\n",
       "      <th>activity_days</th>\n",
       "      <th>driving_days</th>\n",
       "      <th>device</th>\n",
       "      <th>km_per_drive</th>\n",
       "      <th>km_per_driving_day</th>\n",
       "      <th>drives_per_driving_day</th>\n",
       "    </tr>\n",
       "  </thead>\n",
       "  <tbody>\n",
       "    <tr>\n",
       "      <th>0</th>\n",
       "      <td>0</td>\n",
       "      <td>retained</td>\n",
       "      <td>283</td>\n",
       "      <td>226</td>\n",
       "      <td>296.748273</td>\n",
       "      <td>2276</td>\n",
       "      <td>208</td>\n",
       "      <td>0</td>\n",
       "      <td>2628.845068</td>\n",
       "      <td>1985.775061</td>\n",
       "      <td>28</td>\n",
       "      <td>19</td>\n",
       "      <td>Android</td>\n",
       "      <td>11.632058</td>\n",
       "      <td>138.360267</td>\n",
       "      <td>11.894737</td>\n",
       "    </tr>\n",
       "    <tr>\n",
       "      <th>1</th>\n",
       "      <td>1</td>\n",
       "      <td>retained</td>\n",
       "      <td>133</td>\n",
       "      <td>107</td>\n",
       "      <td>326.896596</td>\n",
       "      <td>1225</td>\n",
       "      <td>19</td>\n",
       "      <td>64</td>\n",
       "      <td>13715.920550</td>\n",
       "      <td>3160.472914</td>\n",
       "      <td>13</td>\n",
       "      <td>11</td>\n",
       "      <td>iPhone</td>\n",
       "      <td>128.186173</td>\n",
       "      <td>1246.901868</td>\n",
       "      <td>9.727273</td>\n",
       "    </tr>\n",
       "    <tr>\n",
       "      <th>2</th>\n",
       "      <td>2</td>\n",
       "      <td>retained</td>\n",
       "      <td>114</td>\n",
       "      <td>95</td>\n",
       "      <td>135.522926</td>\n",
       "      <td>2651</td>\n",
       "      <td>0</td>\n",
       "      <td>0</td>\n",
       "      <td>3059.148818</td>\n",
       "      <td>1610.735904</td>\n",
       "      <td>14</td>\n",
       "      <td>8</td>\n",
       "      <td>Android</td>\n",
       "      <td>32.201567</td>\n",
       "      <td>382.393602</td>\n",
       "      <td>11.875000</td>\n",
       "    </tr>\n",
       "    <tr>\n",
       "      <th>3</th>\n",
       "      <td>3</td>\n",
       "      <td>retained</td>\n",
       "      <td>49</td>\n",
       "      <td>40</td>\n",
       "      <td>67.589221</td>\n",
       "      <td>15</td>\n",
       "      <td>322</td>\n",
       "      <td>7</td>\n",
       "      <td>913.591123</td>\n",
       "      <td>587.196542</td>\n",
       "      <td>7</td>\n",
       "      <td>3</td>\n",
       "      <td>iPhone</td>\n",
       "      <td>22.839778</td>\n",
       "      <td>304.530374</td>\n",
       "      <td>13.333333</td>\n",
       "    </tr>\n",
       "    <tr>\n",
       "      <th>4</th>\n",
       "      <td>4</td>\n",
       "      <td>retained</td>\n",
       "      <td>84</td>\n",
       "      <td>68</td>\n",
       "      <td>168.247020</td>\n",
       "      <td>1562</td>\n",
       "      <td>166</td>\n",
       "      <td>5</td>\n",
       "      <td>3950.202008</td>\n",
       "      <td>1219.555924</td>\n",
       "      <td>27</td>\n",
       "      <td>18</td>\n",
       "      <td>Android</td>\n",
       "      <td>58.091206</td>\n",
       "      <td>219.455667</td>\n",
       "      <td>3.777778</td>\n",
       "    </tr>\n",
       "  </tbody>\n",
       "</table>\n",
       "</div>"
      ],
      "text/plain": [
       "   ID     label  sessions  drives  total_sessions  n_days_after_onboarding  \\\n",
       "0   0  retained       283     226      296.748273                     2276   \n",
       "1   1  retained       133     107      326.896596                     1225   \n",
       "2   2  retained       114      95      135.522926                     2651   \n",
       "3   3  retained        49      40       67.589221                       15   \n",
       "4   4  retained        84      68      168.247020                     1562   \n",
       "\n",
       "   total_navigations_fav1  total_navigations_fav2  driven_km_drives  \\\n",
       "0                     208                       0       2628.845068   \n",
       "1                      19                      64      13715.920550   \n",
       "2                       0                       0       3059.148818   \n",
       "3                     322                       7        913.591123   \n",
       "4                     166                       5       3950.202008   \n",
       "\n",
       "   duration_minutes_drives  activity_days  driving_days   device  \\\n",
       "0              1985.775061             28            19  Android   \n",
       "1              3160.472914             13            11   iPhone   \n",
       "2              1610.735904             14             8  Android   \n",
       "3               587.196542              7             3   iPhone   \n",
       "4              1219.555924             27            18  Android   \n",
       "\n",
       "   km_per_drive  km_per_driving_day  drives_per_driving_day  \n",
       "0     11.632058          138.360267               11.894737  \n",
       "1    128.186173         1246.901868                9.727273  \n",
       "2     32.201567          382.393602               11.875000  \n",
       "3     22.839778          304.530374               13.333333  \n",
       "4     58.091206          219.455667                3.777778  "
      ]
     },
     "execution_count": 3,
     "metadata": {},
     "output_type": "execute_result"
    }
   ],
   "source": [
    "# Load the cleaned csv with added features into a dataframe\n",
    "waze_df = pd.read_csv('../data/waze_features_v1.csv')\n",
    "waze_df.head()"
   ]
  },
  {
   "cell_type": "code",
   "execution_count": 4,
   "id": "52669b9f",
   "metadata": {},
   "outputs": [],
   "source": [
    "# Map device labels ('iPhone', 'Android) to numeric codes (1, 2) in new column device_type\n",
    "map_dict = {'iPhone': 1,'Android': 2}\n",
    "waze_df['device_type'] = waze_df['device'].map(map_dict)"
   ]
  },
  {
   "cell_type": "code",
   "execution_count": 5,
   "id": "90ffe539",
   "metadata": {},
   "outputs": [
    {
     "data": {
      "text/html": [
       "<div>\n",
       "<style scoped>\n",
       "    .dataframe tbody tr th:only-of-type {\n",
       "        vertical-align: middle;\n",
       "    }\n",
       "\n",
       "    .dataframe tbody tr th {\n",
       "        vertical-align: top;\n",
       "    }\n",
       "\n",
       "    .dataframe thead th {\n",
       "        text-align: right;\n",
       "    }\n",
       "</style>\n",
       "<table border=\"1\" class=\"dataframe\">\n",
       "  <thead>\n",
       "    <tr style=\"text-align: right;\">\n",
       "      <th></th>\n",
       "      <th>device</th>\n",
       "      <th>device_type</th>\n",
       "    </tr>\n",
       "  </thead>\n",
       "  <tbody>\n",
       "    <tr>\n",
       "      <th>0</th>\n",
       "      <td>Android</td>\n",
       "      <td>2</td>\n",
       "    </tr>\n",
       "    <tr>\n",
       "      <th>1</th>\n",
       "      <td>iPhone</td>\n",
       "      <td>1</td>\n",
       "    </tr>\n",
       "    <tr>\n",
       "      <th>2</th>\n",
       "      <td>Android</td>\n",
       "      <td>2</td>\n",
       "    </tr>\n",
       "    <tr>\n",
       "      <th>3</th>\n",
       "      <td>iPhone</td>\n",
       "      <td>1</td>\n",
       "    </tr>\n",
       "    <tr>\n",
       "      <th>4</th>\n",
       "      <td>Android</td>\n",
       "      <td>2</td>\n",
       "    </tr>\n",
       "    <tr>\n",
       "      <th>5</th>\n",
       "      <td>iPhone</td>\n",
       "      <td>1</td>\n",
       "    </tr>\n",
       "    <tr>\n",
       "      <th>6</th>\n",
       "      <td>iPhone</td>\n",
       "      <td>1</td>\n",
       "    </tr>\n",
       "    <tr>\n",
       "      <th>7</th>\n",
       "      <td>iPhone</td>\n",
       "      <td>1</td>\n",
       "    </tr>\n",
       "    <tr>\n",
       "      <th>8</th>\n",
       "      <td>Android</td>\n",
       "      <td>2</td>\n",
       "    </tr>\n",
       "    <tr>\n",
       "      <th>9</th>\n",
       "      <td>iPhone</td>\n",
       "      <td>1</td>\n",
       "    </tr>\n",
       "  </tbody>\n",
       "</table>\n",
       "</div>"
      ],
      "text/plain": [
       "    device  device_type\n",
       "0  Android            2\n",
       "1   iPhone            1\n",
       "2  Android            2\n",
       "3   iPhone            1\n",
       "4  Android            2\n",
       "5   iPhone            1\n",
       "6   iPhone            1\n",
       "7   iPhone            1\n",
       "8  Android            2\n",
       "9   iPhone            1"
      ]
     },
     "execution_count": 5,
     "metadata": {},
     "output_type": "execute_result"
    }
   ],
   "source": [
    "waze_df[['device', 'device_type']].head(10)"
   ]
  },
  {
   "cell_type": "code",
   "execution_count": 6,
   "id": "055a5619",
   "metadata": {},
   "outputs": [
    {
     "data": {
      "text/plain": [
       "np.int64(0)"
      ]
     },
     "execution_count": 6,
     "metadata": {},
     "output_type": "execute_result"
    }
   ],
   "source": [
    "# Confirm no nulls\n",
    "waze_df['device_type'].isna().sum()"
   ]
  },
  {
   "cell_type": "code",
   "execution_count": 7,
   "id": "e97ed401",
   "metadata": {},
   "outputs": [
    {
     "data": {
      "text/plain": [
       "device_type\n",
       "1    67.933225\n",
       "2    66.024241\n",
       "Name: drives, dtype: float64"
      ]
     },
     "execution_count": 7,
     "metadata": {},
     "output_type": "execute_result"
    }
   ],
   "source": [
    "# Calculate average number of drives per device type\n",
    "waze_df.groupby('device_type')['drives'].mean()"
   ]
  },
  {
   "cell_type": "code",
   "execution_count": 8,
   "id": "47892a02",
   "metadata": {},
   "outputs": [],
   "source": [
    "# Average drives: iPhone users ≈ 67.9 vs Android users ≈ 66.0\n",
    "# Next: test if this difference is due to chance or statistically significant; run a two-sample t-test"
   ]
  },
  {
   "cell_type": "code",
   "execution_count": 9,
   "id": "2a4cab0e",
   "metadata": {},
   "outputs": [],
   "source": [
    "# H0: There is no difference in the avg number of drives between iPhone and Android users\n",
    "# H1: There is a difference in the avg number of drives between iPhone and Android users"
   ]
  },
  {
   "cell_type": "code",
   "execution_count": 10,
   "id": "ac65a20f",
   "metadata": {},
   "outputs": [],
   "source": [
    "# Significance level = 5%"
   ]
  },
  {
   "cell_type": "code",
   "execution_count": 11,
   "id": "13959f30",
   "metadata": {},
   "outputs": [],
   "source": [
    "# Isolate the colums needed for t-test\n",
    "iphone_drives = waze_df[waze_df['device_type'] == 1]['drives']\n",
    "android_drives = waze_df[waze_df['device_type'] == 2]['drives']"
   ]
  },
  {
   "cell_type": "code",
   "execution_count": 12,
   "id": "4a89338d",
   "metadata": {},
   "outputs": [
    {
     "data": {
      "text/plain": [
       "TtestResult(statistic=np.float64(1.676594122141587), pvalue=np.float64(0.09365074661708836), df=np.float64(10826.925404660755))"
      ]
     },
     "execution_count": 12,
     "metadata": {},
     "output_type": "execute_result"
    }
   ],
   "source": [
    "# Perform the t-test\n",
    "stats.ttest_ind(a=iphone_drives, b=android_drives, equal_var=False)"
   ]
  },
  {
   "cell_type": "code",
   "execution_count": 13,
   "id": "d09cd125",
   "metadata": {},
   "outputs": [],
   "source": [
    "# t-test result: p-value ≈ 0.094 > 0.05"
   ]
  },
  {
   "cell_type": "code",
   "execution_count": null,
   "id": "46d14589",
   "metadata": {},
   "outputs": [],
   "source": [
    "# Key Insight:\n",
    "# We fail to reject the H0; There is not a statistically significant difference in avg drives between iPhone and Android users."
   ]
  },
  {
   "cell_type": "markdown",
   "id": "6c5c5f04",
   "metadata": {},
   "source": [
    "### Executive Summary\n",
    "[Executive Summary - Milestone 4](../reports/executive_summary_milestone_4.pdf)"
   ]
  }
 ],
 "metadata": {
  "kernelspec": {
   "display_name": "cdb_env",
   "language": "python",
   "name": "python3"
  },
  "language_info": {
   "codemirror_mode": {
    "name": "ipython",
    "version": 3
   },
   "file_extension": ".py",
   "mimetype": "text/x-python",
   "name": "python",
   "nbconvert_exporter": "python",
   "pygments_lexer": "ipython3",
   "version": "3.12.11"
  }
 },
 "nbformat": 4,
 "nbformat_minor": 5
}
