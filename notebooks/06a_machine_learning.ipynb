{
 "cells": [
  {
   "cell_type": "markdown",
   "id": "772fa20e",
   "metadata": {},
   "source": [
    "### Notebook Overview  \n",
    "\n",
    "This Jupyter notebook is the deliverable for **Course 6 – \"The Nuts and Bolts of Machine Learning\" (Part 1)** of the Waze churn prediction project. Its goals are to  \n",
    "\n",
    "1. **Finalize the feature set** by dropping redundant categorical columns and creating new behavioral metrics (`percent_sessions_in_last_month`, `total_sessions_per_day`, `km_per_hour`, `ratio_of_favorite_navigations_to_drives`).  \n",
    "2. **Validate feature distributions** to ensure interpretability and document anomalies (e.g., outliers in `km_per_hour`, ratios exceeding 1.0 due to logging differences).  \n",
    "3. **Confirm class balance** in the target variable (`label_2`), which remains heavily skewed (~80% retained / ~20% churned).  \n",
    "4. **Save the finalized dataset** as `waze_modeling_set.csv`, providing a clean handoff for downstream modeling.  \n",
    "\n",
    "**Deliverables:**  \n",
    "- Extended feature set capturing recency of use, normalized activity, driving efficiency, and navigation habits  \n",
    "- Data quality notes documenting anomalies and modeling decisions \n",
    "- Final modeling dataset (`waze_modeling_set.csv`) containing all engineered predictors and numeric encodings"
   ]
  },
  {
   "cell_type": "code",
   "execution_count": 1,
   "id": "aa2937a2",
   "metadata": {},
   "outputs": [],
   "source": [
    "# In the previous stage, we built a baseline logistic regression model to predict user churn. \n",
    "# That model provided interpretability and strong recall, establishing a benchmark for comparison."
   ]
  },
  {
   "cell_type": "code",
   "execution_count": 2,
   "id": "c6184791",
   "metadata": {},
   "outputs": [],
   "source": [
    "# Objective:\n",
    "# In this notebook we extend the analysis by:\n",
    "#   1. Engineering additional behavioral features to enrich the dataset.\n",
    "#   2. Validating feature distributions and documenting anomalies.\n",
    "#   3. Preparing and saving the final modeling dataset (waze_modeling_set.csv).\n",
    "\n",
    "# Why:\n",
    "# Waze leadership is interested in identifying users most at risk of churn \n",
    "# so that product and marketing teams can design targeted retention strategies. \n",
    "# Adding behavioral features improves the chance of capturing nonlinear \n",
    "# patterns in user activity that logistic regression may miss.\n",
    "\n",
    "# Ethical Note:\n",
    "# Predictive churn models should be applied in ways that benefit users.\n",
    "# If misapplied, there are risks on both sides:\n",
    "# - Waze may fail to take proactive measures to retain users who are \n",
    "#   actually at risk of churning (missed opportunities to improve satisfaction).\n",
    "# - Waze may also take proactive measures with loyal users who are not at risk,\n",
    "#   creating unnecessary notifications or surveys that could annoy them.\n",
    "# These trade-offs should be considered when designing retention strategies."
   ]
  },
  {
   "cell_type": "code",
   "execution_count": 3,
   "id": "67f1ece7",
   "metadata": {},
   "outputs": [],
   "source": [
    "import pandas as pd\n",
    "import numpy as np"
   ]
  },
  {
   "cell_type": "code",
   "execution_count": 4,
   "id": "4b354c20",
   "metadata": {},
   "outputs": [
    {
     "data": {
      "text/html": [
       "<div>\n",
       "<style scoped>\n",
       "    .dataframe tbody tr th:only-of-type {\n",
       "        vertical-align: middle;\n",
       "    }\n",
       "\n",
       "    .dataframe tbody tr th {\n",
       "        vertical-align: top;\n",
       "    }\n",
       "\n",
       "    .dataframe thead th {\n",
       "        text-align: right;\n",
       "    }\n",
       "</style>\n",
       "<table border=\"1\" class=\"dataframe\">\n",
       "  <thead>\n",
       "    <tr style=\"text-align: right;\">\n",
       "      <th></th>\n",
       "      <th>label</th>\n",
       "      <th>sessions</th>\n",
       "      <th>drives</th>\n",
       "      <th>total_sessions</th>\n",
       "      <th>n_days_after_onboarding</th>\n",
       "      <th>total_navigations_fav1</th>\n",
       "      <th>total_navigations_fav2</th>\n",
       "      <th>driven_km_drives</th>\n",
       "      <th>duration_minutes_drives</th>\n",
       "      <th>activity_days</th>\n",
       "      <th>driving_days</th>\n",
       "      <th>device</th>\n",
       "      <th>km_per_drive</th>\n",
       "      <th>km_per_driving_day</th>\n",
       "      <th>drives_per_driving_day</th>\n",
       "      <th>professional_driver</th>\n",
       "      <th>label_2</th>\n",
       "      <th>device_2</th>\n",
       "    </tr>\n",
       "  </thead>\n",
       "  <tbody>\n",
       "    <tr>\n",
       "      <th>0</th>\n",
       "      <td>retained</td>\n",
       "      <td>283</td>\n",
       "      <td>226</td>\n",
       "      <td>296.748273</td>\n",
       "      <td>2276</td>\n",
       "      <td>208</td>\n",
       "      <td>0</td>\n",
       "      <td>2628.845068</td>\n",
       "      <td>1985.775061</td>\n",
       "      <td>28</td>\n",
       "      <td>19</td>\n",
       "      <td>Android</td>\n",
       "      <td>11.632058</td>\n",
       "      <td>138.360267</td>\n",
       "      <td>11.894737</td>\n",
       "      <td>1</td>\n",
       "      <td>0</td>\n",
       "      <td>0</td>\n",
       "    </tr>\n",
       "    <tr>\n",
       "      <th>1</th>\n",
       "      <td>retained</td>\n",
       "      <td>133</td>\n",
       "      <td>107</td>\n",
       "      <td>326.896596</td>\n",
       "      <td>1225</td>\n",
       "      <td>19</td>\n",
       "      <td>64</td>\n",
       "      <td>13715.920550</td>\n",
       "      <td>3160.472914</td>\n",
       "      <td>13</td>\n",
       "      <td>11</td>\n",
       "      <td>iPhone</td>\n",
       "      <td>128.186173</td>\n",
       "      <td>1246.901868</td>\n",
       "      <td>9.727273</td>\n",
       "      <td>0</td>\n",
       "      <td>0</td>\n",
       "      <td>1</td>\n",
       "    </tr>\n",
       "    <tr>\n",
       "      <th>2</th>\n",
       "      <td>retained</td>\n",
       "      <td>114</td>\n",
       "      <td>95</td>\n",
       "      <td>135.522926</td>\n",
       "      <td>2651</td>\n",
       "      <td>0</td>\n",
       "      <td>0</td>\n",
       "      <td>3059.148818</td>\n",
       "      <td>1610.735904</td>\n",
       "      <td>14</td>\n",
       "      <td>8</td>\n",
       "      <td>Android</td>\n",
       "      <td>32.201567</td>\n",
       "      <td>382.393602</td>\n",
       "      <td>11.875000</td>\n",
       "      <td>0</td>\n",
       "      <td>0</td>\n",
       "      <td>0</td>\n",
       "    </tr>\n",
       "    <tr>\n",
       "      <th>3</th>\n",
       "      <td>retained</td>\n",
       "      <td>49</td>\n",
       "      <td>40</td>\n",
       "      <td>67.589221</td>\n",
       "      <td>15</td>\n",
       "      <td>322</td>\n",
       "      <td>7</td>\n",
       "      <td>913.591123</td>\n",
       "      <td>587.196542</td>\n",
       "      <td>7</td>\n",
       "      <td>3</td>\n",
       "      <td>iPhone</td>\n",
       "      <td>22.839778</td>\n",
       "      <td>304.530374</td>\n",
       "      <td>13.333333</td>\n",
       "      <td>0</td>\n",
       "      <td>0</td>\n",
       "      <td>1</td>\n",
       "    </tr>\n",
       "    <tr>\n",
       "      <th>4</th>\n",
       "      <td>retained</td>\n",
       "      <td>84</td>\n",
       "      <td>68</td>\n",
       "      <td>168.247020</td>\n",
       "      <td>1562</td>\n",
       "      <td>166</td>\n",
       "      <td>5</td>\n",
       "      <td>3950.202008</td>\n",
       "      <td>1219.555924</td>\n",
       "      <td>27</td>\n",
       "      <td>18</td>\n",
       "      <td>Android</td>\n",
       "      <td>58.091206</td>\n",
       "      <td>219.455667</td>\n",
       "      <td>3.777778</td>\n",
       "      <td>1</td>\n",
       "      <td>0</td>\n",
       "      <td>0</td>\n",
       "    </tr>\n",
       "  </tbody>\n",
       "</table>\n",
       "</div>"
      ],
      "text/plain": [
       "      label  sessions  drives  total_sessions  n_days_after_onboarding  \\\n",
       "0  retained       283     226      296.748273                     2276   \n",
       "1  retained       133     107      326.896596                     1225   \n",
       "2  retained       114      95      135.522926                     2651   \n",
       "3  retained        49      40       67.589221                       15   \n",
       "4  retained        84      68      168.247020                     1562   \n",
       "\n",
       "   total_navigations_fav1  total_navigations_fav2  driven_km_drives  \\\n",
       "0                     208                       0       2628.845068   \n",
       "1                      19                      64      13715.920550   \n",
       "2                       0                       0       3059.148818   \n",
       "3                     322                       7        913.591123   \n",
       "4                     166                       5       3950.202008   \n",
       "\n",
       "   duration_minutes_drives  activity_days  driving_days   device  \\\n",
       "0              1985.775061             28            19  Android   \n",
       "1              3160.472914             13            11   iPhone   \n",
       "2              1610.735904             14             8  Android   \n",
       "3               587.196542              7             3   iPhone   \n",
       "4              1219.555924             27            18  Android   \n",
       "\n",
       "   km_per_drive  km_per_driving_day  drives_per_driving_day  \\\n",
       "0     11.632058          138.360267               11.894737   \n",
       "1    128.186173         1246.901868                9.727273   \n",
       "2     32.201567          382.393602               11.875000   \n",
       "3     22.839778          304.530374               13.333333   \n",
       "4     58.091206          219.455667                3.777778   \n",
       "\n",
       "   professional_driver  label_2  device_2  \n",
       "0                    1        0         0  \n",
       "1                    0        0         1  \n",
       "2                    0        0         0  \n",
       "3                    0        0         1  \n",
       "4                    1        0         0  "
      ]
     },
     "execution_count": 4,
     "metadata": {},
     "output_type": "execute_result"
    }
   ],
   "source": [
    "# Load the latest clean and feature-added csv into a dataframe\n",
    "waze_df = pd.read_csv('../data/waze_features_v2.csv')\n",
    "waze_df.head()"
   ]
  },
  {
   "cell_type": "code",
   "execution_count": 5,
   "id": "e088b924",
   "metadata": {},
   "outputs": [
    {
     "data": {
      "text/plain": [
       "label                       object\n",
       "sessions                     int64\n",
       "drives                       int64\n",
       "total_sessions             float64\n",
       "n_days_after_onboarding      int64\n",
       "total_navigations_fav1       int64\n",
       "total_navigations_fav2       int64\n",
       "driven_km_drives           float64\n",
       "duration_minutes_drives    float64\n",
       "activity_days                int64\n",
       "driving_days                 int64\n",
       "device                      object\n",
       "km_per_drive               float64\n",
       "km_per_driving_day         float64\n",
       "drives_per_driving_day     float64\n",
       "professional_driver          int64\n",
       "label_2                      int64\n",
       "device_2                     int64\n",
       "dtype: object"
      ]
     },
     "execution_count": 5,
     "metadata": {},
     "output_type": "execute_result"
    }
   ],
   "source": [
    "waze_df.dtypes"
   ]
  },
  {
   "cell_type": "code",
   "execution_count": 6,
   "id": "67644e29",
   "metadata": {},
   "outputs": [],
   "source": [
    "# Finalzing the modeling data set:\n",
    "# Drop orginal 'label' and 'device' columns since we already have the numeric encoded versions\n",
    "\n",
    "waze_df.drop(columns=['label', 'device'], axis=1, inplace=True)"
   ]
  },
  {
   "cell_type": "code",
   "execution_count": 7,
   "id": "d6fba745",
   "metadata": {},
   "outputs": [
    {
     "name": "stdout",
     "output_type": "stream",
     "text": [
      "<class 'pandas.core.frame.DataFrame'>\n",
      "RangeIndex: 14299 entries, 0 to 14298\n",
      "Data columns (total 16 columns):\n",
      " #   Column                   Non-Null Count  Dtype  \n",
      "---  ------                   --------------  -----  \n",
      " 0   sessions                 14299 non-null  int64  \n",
      " 1   drives                   14299 non-null  int64  \n",
      " 2   total_sessions           14299 non-null  float64\n",
      " 3   n_days_after_onboarding  14299 non-null  int64  \n",
      " 4   total_navigations_fav1   14299 non-null  int64  \n",
      " 5   total_navigations_fav2   14299 non-null  int64  \n",
      " 6   driven_km_drives         14299 non-null  float64\n",
      " 7   duration_minutes_drives  14299 non-null  float64\n",
      " 8   activity_days            14299 non-null  int64  \n",
      " 9   driving_days             14299 non-null  int64  \n",
      " 10  km_per_drive             14299 non-null  float64\n",
      " 11  km_per_driving_day       14299 non-null  float64\n",
      " 12  drives_per_driving_day   14299 non-null  float64\n",
      " 13  professional_driver      14299 non-null  int64  \n",
      " 14  label_2                  14299 non-null  int64  \n",
      " 15  device_2                 14299 non-null  int64  \n",
      "dtypes: float64(6), int64(10)\n",
      "memory usage: 1.7 MB\n"
     ]
    }
   ],
   "source": [
    "waze_df.info()"
   ]
  },
  {
   "cell_type": "code",
   "execution_count": 8,
   "id": "3f47fff6",
   "metadata": {},
   "outputs": [],
   "source": [
    "# Feature Engineering: additional behavioral metrics\n",
    "# These features capture recent engagement, driving efficiency, \n",
    "# and navigation habits that may be predictive of churn."
   ]
  },
  {
   "cell_type": "code",
   "execution_count": 9,
   "id": "68b9cfeb",
   "metadata": {},
   "outputs": [],
   "source": [
    "# Share of user sessions that occurred in the most recent month.\n",
    "# Helps measure recency of engagement.\n",
    "waze_df['percent_sessions_in_last_month'] = (waze_df['sessions'] / waze_df['total_sessions']) * 100\n",
    "\n",
    "\n",
    "# Average number of sessions per day since onboarding.\n",
    "# Normalizes activity by account age.\n",
    "waze_df['total_sessions_per_day'] = waze_df['total_sessions'] / waze_df['n_days_after_onboarding']\n",
    "\n",
    "\n",
    "# Driving efficiency: kilometers per hour.\n",
    "# Higher or lower values may indicate different driving patterns.\n",
    "waze_df['km_per_hour'] = waze_df['driven_km_drives'] / (waze_df['duration_minutes_drives'] / 60)\n",
    "\n",
    "\n",
    "# Average number of favorite navigations per drive.\n",
    "# Values can exceed 1.0 because users may record multiple favorite\n",
    "# navigations relative to the number of drives captured.\n",
    "waze_df['ratio_of_favorite_navigations_to_drives'] = (\n",
    "    (waze_df['total_navigations_fav1'] + waze_df['total_navigations_fav2'])\n",
    "    .div(waze_df['drives'].replace(0, np.nan))\n",
    "    .fillna(0.0)\n",
    ")"
   ]
  },
  {
   "cell_type": "code",
   "execution_count": 10,
   "id": "122aa09d",
   "metadata": {},
   "outputs": [
    {
     "data": {
      "text/plain": [
       "count    14299.000000\n",
       "mean        44.983669\n",
       "std         28.686297\n",
       "min          0.000000\n",
       "25%         19.688992\n",
       "50%         42.431025\n",
       "75%         68.725073\n",
       "max        153.063707\n",
       "Name: percent_sessions_in_last_month, dtype: float64"
      ]
     },
     "execution_count": 10,
     "metadata": {},
     "output_type": "execute_result"
    }
   ],
   "source": [
    "waze_df['percent_sessions_in_last_month'].describe()"
   ]
  },
  {
   "cell_type": "code",
   "execution_count": 11,
   "id": "7306871e",
   "metadata": {},
   "outputs": [],
   "source": [
    "# percent_sessions_in_last_month:\n",
    "#   Mostly within 0–100, but a few values >100%. \n",
    "#   Likely a calculation quirk; note anomaly, keep as-is."
   ]
  },
  {
   "cell_type": "code",
   "execution_count": 12,
   "id": "e75d2bdb",
   "metadata": {},
   "outputs": [
    {
     "data": {
      "text/plain": [
       "count    14299.000000\n",
       "mean         0.338207\n",
       "std          1.319814\n",
       "min          0.000298\n",
       "25%          0.050818\n",
       "50%          0.100457\n",
       "75%          0.215210\n",
       "max         39.763874\n",
       "Name: total_sessions_per_day, dtype: float64"
      ]
     },
     "execution_count": 12,
     "metadata": {},
     "output_type": "execute_result"
    }
   ],
   "source": [
    "waze_df['total_sessions_per_day'].describe()"
   ]
  },
  {
   "cell_type": "code",
   "execution_count": 13,
   "id": "e966b3fe",
   "metadata": {},
   "outputs": [],
   "source": [
    "# total_sessions_per_day:\n",
    "#   Highly skewed; most users <1/day, max ~40/day. \n",
    "#   Reasonable but uneven usage patterns."
   ]
  },
  {
   "cell_type": "code",
   "execution_count": 14,
   "id": "b82e57a5",
   "metadata": {},
   "outputs": [
    {
     "data": {
      "text/plain": [
       "count    14299.000000\n",
       "mean       190.883283\n",
       "std        339.885059\n",
       "min         72.013095\n",
       "25%         91.035896\n",
       "50%        122.342918\n",
       "75%        193.238449\n",
       "max      23642.920871\n",
       "Name: km_per_hour, dtype: float64"
      ]
     },
     "execution_count": 14,
     "metadata": {},
     "output_type": "execute_result"
    }
   ],
   "source": [
    "waze_df['km_per_hour'].describe()"
   ]
  },
  {
   "cell_type": "code",
   "execution_count": 15,
   "id": "44bb1151",
   "metadata": {},
   "outputs": [],
   "source": [
    "# km_per_hour:\n",
    "#   Median realistic (~122 km/h), but extreme outliers >20,000 km/h \n",
    "#   due to very short trip durations. Retain; tree models are robust."
   ]
  },
  {
   "cell_type": "code",
   "execution_count": 16,
   "id": "92257613",
   "metadata": {},
   "outputs": [
    {
     "data": {
      "text/plain": [
       "count    14299.000000\n",
       "mean         8.664833\n",
       "std         28.904597\n",
       "min          0.000000\n",
       "25%          0.581395\n",
       "50%          2.083333\n",
       "75%          6.160028\n",
       "max        799.000000\n",
       "Name: ratio_of_favorite_navigations_to_drives, dtype: float64"
      ]
     },
     "execution_count": 16,
     "metadata": {},
     "output_type": "execute_result"
    }
   ],
   "source": [
    "waze_df['ratio_of_favorite_navigations_to_drives'].describe()"
   ]
  },
  {
   "cell_type": "code",
   "execution_count": 17,
   "id": "19e13074",
   "metadata": {},
   "outputs": [],
   "source": [
    "# ratio_of_favorite_navigations_to_drives:\n",
    "#   Represents average trips to saved favorite places per drive.\n",
    "#   Not bounded by 1.0 — values >1 occur due to logging differences\n",
    "#   between drives and favorite navigations.\n",
    "#   Retained for modeling, as it may signal strong routine usage."
   ]
  },
  {
   "cell_type": "code",
   "execution_count": 18,
   "id": "f323a632",
   "metadata": {},
   "outputs": [
    {
     "data": {
      "text/plain": [
       "label_2\n",
       "0    0.822645\n",
       "1    0.177355\n",
       "Name: proportion, dtype: float64"
      ]
     },
     "execution_count": 18,
     "metadata": {},
     "output_type": "execute_result"
    }
   ],
   "source": [
    "# Confirm class balance (~80% retained / 20% churned) observed earlier\n",
    "waze_df['label_2'].value_counts(normalize=True)"
   ]
  },
  {
   "cell_type": "code",
   "execution_count": 19,
   "id": "717e251e",
   "metadata": {},
   "outputs": [
    {
     "data": {
      "text/plain": [
       "sessions                                     int64\n",
       "drives                                       int64\n",
       "total_sessions                             float64\n",
       "n_days_after_onboarding                      int64\n",
       "total_navigations_fav1                       int64\n",
       "total_navigations_fav2                       int64\n",
       "driven_km_drives                           float64\n",
       "duration_minutes_drives                    float64\n",
       "activity_days                                int64\n",
       "driving_days                                 int64\n",
       "km_per_drive                               float64\n",
       "km_per_driving_day                         float64\n",
       "drives_per_driving_day                     float64\n",
       "professional_driver                          int64\n",
       "label_2                                      int64\n",
       "device_2                                     int64\n",
       "percent_sessions_in_last_month             float64\n",
       "total_sessions_per_day                     float64\n",
       "km_per_hour                                float64\n",
       "ratio_of_favorite_navigations_to_drives    float64\n",
       "dtype: object"
      ]
     },
     "execution_count": 19,
     "metadata": {},
     "output_type": "execute_result"
    }
   ],
   "source": [
    "# Confirm dtypes (all numeric) before saving modeling set\n",
    "waze_df.dtypes"
   ]
  },
  {
   "cell_type": "code",
   "execution_count": 20,
   "id": "c891040d",
   "metadata": {},
   "outputs": [],
   "source": [
    "# Save finalized modeling dataset\n",
    "waze_df.to_csv('../data/waze_modeling_set.csv', index=False)"
   ]
  }
 ],
 "metadata": {
  "kernelspec": {
   "display_name": "cdb_env",
   "language": "python",
   "name": "python3"
  },
  "language_info": {
   "codemirror_mode": {
    "name": "ipython",
    "version": 3
   },
   "file_extension": ".py",
   "mimetype": "text/x-python",
   "name": "python",
   "nbconvert_exporter": "python",
   "pygments_lexer": "ipython3",
   "version": "3.12.11"
  }
 },
 "nbformat": 4,
 "nbformat_minor": 5
}
